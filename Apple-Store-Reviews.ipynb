{
 "cells": [
  {
   "cell_type": "code",
   "execution_count": 19,
   "id": "31bd3f87-2001-43fe-9ef7-4de22d00c8a9",
   "metadata": {},
   "outputs": [],
   "source": [
    "import pandas as pd\n",
    "import numpy as np\n",
    "import seaborn as sns\n",
    "import matplotlib.pyplot as plt\n",
    "import scipy.stats as stats"
   ]
  },
  {
   "cell_type": "code",
   "execution_count": 20,
   "id": "0e7b2fff-f5d6-43f7-afa9-605160d8afae",
   "metadata": {},
   "outputs": [
    {
     "data": {
      "text/html": [
       "<div>\n",
       "<style scoped>\n",
       "    .dataframe tbody tr th:only-of-type {\n",
       "        vertical-align: middle;\n",
       "    }\n",
       "\n",
       "    .dataframe tbody tr th {\n",
       "        vertical-align: top;\n",
       "    }\n",
       "\n",
       "    .dataframe thead th {\n",
       "        text-align: right;\n",
       "    }\n",
       "</style>\n",
       "<table border=\"1\" class=\"dataframe\">\n",
       "  <thead>\n",
       "    <tr style=\"text-align: right;\">\n",
       "      <th></th>\n",
       "      <th>Review_ID</th>\n",
       "      <th>App_Name</th>\n",
       "      <th>User_Age</th>\n",
       "      <th>Review_Date</th>\n",
       "      <th>Rating</th>\n",
       "      <th>Review_Text</th>\n",
       "      <th>Likes</th>\n",
       "      <th>Device_Type</th>\n",
       "      <th>Version_Used</th>\n",
       "      <th>Country</th>\n",
       "      <th>Purchase_Amount</th>\n",
       "      <th>Category</th>\n",
       "    </tr>\n",
       "  </thead>\n",
       "  <tbody>\n",
       "    <tr>\n",
       "      <th>0</th>\n",
       "      <td>1</td>\n",
       "      <td>Candy Crush Saga</td>\n",
       "      <td>21</td>\n",
       "      <td>2023-01-16</td>\n",
       "      <td>4</td>\n",
       "      <td>Great game, but too many in-game purchases.</td>\n",
       "      <td>70</td>\n",
       "      <td>iPhone 12</td>\n",
       "      <td>3.231.19</td>\n",
       "      <td>Australia</td>\n",
       "      <td>0.00</td>\n",
       "      <td>Games</td>\n",
       "    </tr>\n",
       "    <tr>\n",
       "      <th>1</th>\n",
       "      <td>2</td>\n",
       "      <td>Spotify</td>\n",
       "      <td>57</td>\n",
       "      <td>2024-02-01</td>\n",
       "      <td>1</td>\n",
       "      <td>Good, but has connection issues sometimes.</td>\n",
       "      <td>49</td>\n",
       "      <td>iPhone SE</td>\n",
       "      <td>4.102.9</td>\n",
       "      <td>Germany</td>\n",
       "      <td>7.15</td>\n",
       "      <td>Music</td>\n",
       "    </tr>\n",
       "    <tr>\n",
       "      <th>2</th>\n",
       "      <td>3</td>\n",
       "      <td>TikTok</td>\n",
       "      <td>33</td>\n",
       "      <td>2023-11-30</td>\n",
       "      <td>5</td>\n",
       "      <td>Awesome app! Best entertainment content.</td>\n",
       "      <td>98</td>\n",
       "      <td>iPhone 12</td>\n",
       "      <td>7.52.0</td>\n",
       "      <td>Germany</td>\n",
       "      <td>4.98</td>\n",
       "      <td>Entertainment</td>\n",
       "    </tr>\n",
       "    <tr>\n",
       "      <th>3</th>\n",
       "      <td>4</td>\n",
       "      <td>Audible</td>\n",
       "      <td>40</td>\n",
       "      <td>2023-04-03</td>\n",
       "      <td>5</td>\n",
       "      <td>Great app, but it's a bit pricey.</td>\n",
       "      <td>74</td>\n",
       "      <td>iPhone 13</td>\n",
       "      <td>5.260.15</td>\n",
       "      <td>Australia</td>\n",
       "      <td>0.00</td>\n",
       "      <td>Books</td>\n",
       "    </tr>\n",
       "    <tr>\n",
       "      <th>4</th>\n",
       "      <td>5</td>\n",
       "      <td>Spotify</td>\n",
       "      <td>44</td>\n",
       "      <td>2023-05-01</td>\n",
       "      <td>1</td>\n",
       "      <td>Good, but has connection issues sometimes.</td>\n",
       "      <td>47</td>\n",
       "      <td>iPhone SE</td>\n",
       "      <td>4.50.18</td>\n",
       "      <td>Australia</td>\n",
       "      <td>14.31</td>\n",
       "      <td>Music</td>\n",
       "    </tr>\n",
       "  </tbody>\n",
       "</table>\n",
       "</div>"
      ],
      "text/plain": [
       "   Review_ID          App_Name  User_Age Review_Date  Rating  \\\n",
       "0          1  Candy Crush Saga        21  2023-01-16       4   \n",
       "1          2           Spotify        57  2024-02-01       1   \n",
       "2          3            TikTok        33  2023-11-30       5   \n",
       "3          4           Audible        40  2023-04-03       5   \n",
       "4          5           Spotify        44  2023-05-01       1   \n",
       "\n",
       "                                   Review_Text  Likes Device_Type  \\\n",
       "0  Great game, but too many in-game purchases.     70   iPhone 12   \n",
       "1   Good, but has connection issues sometimes.     49   iPhone SE   \n",
       "2     Awesome app! Best entertainment content.     98   iPhone 12   \n",
       "3            Great app, but it's a bit pricey.     74   iPhone 13   \n",
       "4   Good, but has connection issues sometimes.     47   iPhone SE   \n",
       "\n",
       "  Version_Used    Country  Purchase_Amount       Category  \n",
       "0     3.231.19  Australia             0.00          Games  \n",
       "1      4.102.9    Germany             7.15          Music  \n",
       "2       7.52.0    Germany             4.98  Entertainment  \n",
       "3     5.260.15  Australia             0.00          Books  \n",
       "4      4.50.18  Australia            14.31          Music  "
      ]
     },
     "execution_count": 20,
     "metadata": {},
     "output_type": "execute_result"
    }
   ],
   "source": [
    "data = pd.read_csv('Apple_Store_Reviews.csv')\n",
    "data.head()"
   ]
  },
  {
   "cell_type": "code",
   "execution_count": 21,
   "id": "8bac9edb-5755-4d94-870c-e789a457cd95",
   "metadata": {},
   "outputs": [
    {
     "name": "stdout",
     "output_type": "stream",
     "text": [
      "<class 'pandas.core.frame.DataFrame'>\n",
      "RangeIndex: 1000 entries, 0 to 999\n",
      "Data columns (total 12 columns):\n",
      " #   Column           Non-Null Count  Dtype  \n",
      "---  ------           --------------  -----  \n",
      " 0   Review_ID        1000 non-null   int64  \n",
      " 1   App_Name         1000 non-null   object \n",
      " 2   User_Age         1000 non-null   int64  \n",
      " 3   Review_Date      1000 non-null   object \n",
      " 4   Rating           1000 non-null   int64  \n",
      " 5   Review_Text      1000 non-null   object \n",
      " 6   Likes            1000 non-null   int64  \n",
      " 7   Device_Type      1000 non-null   object \n",
      " 8   Version_Used     1000 non-null   object \n",
      " 9   Country          1000 non-null   object \n",
      " 10  Purchase_Amount  1000 non-null   float64\n",
      " 11  Category         1000 non-null   object \n",
      "dtypes: float64(1), int64(4), object(7)\n",
      "memory usage: 93.9+ KB\n"
     ]
    }
   ],
   "source": [
    "data.info()"
   ]
  },
  {
   "cell_type": "code",
   "execution_count": 22,
   "id": "a849165b-2e2b-46c2-9d94-b86d07578a65",
   "metadata": {},
   "outputs": [
    {
     "data": {
      "text/html": [
       "<div>\n",
       "<style scoped>\n",
       "    .dataframe tbody tr th:only-of-type {\n",
       "        vertical-align: middle;\n",
       "    }\n",
       "\n",
       "    .dataframe tbody tr th {\n",
       "        vertical-align: top;\n",
       "    }\n",
       "\n",
       "    .dataframe thead th {\n",
       "        text-align: right;\n",
       "    }\n",
       "</style>\n",
       "<table border=\"1\" class=\"dataframe\">\n",
       "  <thead>\n",
       "    <tr style=\"text-align: right;\">\n",
       "      <th></th>\n",
       "      <th>Review_ID</th>\n",
       "      <th>User_Age</th>\n",
       "      <th>Rating</th>\n",
       "      <th>Likes</th>\n",
       "      <th>Purchase_Amount</th>\n",
       "    </tr>\n",
       "  </thead>\n",
       "  <tbody>\n",
       "    <tr>\n",
       "      <th>count</th>\n",
       "      <td>1000.000000</td>\n",
       "      <td>1000.000000</td>\n",
       "      <td>1000.000000</td>\n",
       "      <td>1000.000000</td>\n",
       "      <td>1000.000000</td>\n",
       "    </tr>\n",
       "    <tr>\n",
       "      <th>mean</th>\n",
       "      <td>500.500000</td>\n",
       "      <td>39.211000</td>\n",
       "      <td>2.869000</td>\n",
       "      <td>44.776000</td>\n",
       "      <td>5.361120</td>\n",
       "    </tr>\n",
       "    <tr>\n",
       "      <th>std</th>\n",
       "      <td>288.819436</td>\n",
       "      <td>11.908917</td>\n",
       "      <td>1.467649</td>\n",
       "      <td>28.685444</td>\n",
       "      <td>5.755652</td>\n",
       "    </tr>\n",
       "    <tr>\n",
       "      <th>min</th>\n",
       "      <td>1.000000</td>\n",
       "      <td>18.000000</td>\n",
       "      <td>1.000000</td>\n",
       "      <td>0.000000</td>\n",
       "      <td>0.000000</td>\n",
       "    </tr>\n",
       "    <tr>\n",
       "      <th>25%</th>\n",
       "      <td>250.750000</td>\n",
       "      <td>30.000000</td>\n",
       "      <td>1.000000</td>\n",
       "      <td>17.000000</td>\n",
       "      <td>0.000000</td>\n",
       "    </tr>\n",
       "    <tr>\n",
       "      <th>50%</th>\n",
       "      <td>500.500000</td>\n",
       "      <td>39.000000</td>\n",
       "      <td>3.000000</td>\n",
       "      <td>42.500000</td>\n",
       "      <td>4.995000</td>\n",
       "    </tr>\n",
       "    <tr>\n",
       "      <th>75%</th>\n",
       "      <td>750.250000</td>\n",
       "      <td>49.000000</td>\n",
       "      <td>4.000000</td>\n",
       "      <td>71.000000</td>\n",
       "      <td>10.192500</td>\n",
       "    </tr>\n",
       "    <tr>\n",
       "      <th>max</th>\n",
       "      <td>1000.000000</td>\n",
       "      <td>60.000000</td>\n",
       "      <td>5.000000</td>\n",
       "      <td>100.000000</td>\n",
       "      <td>19.970000</td>\n",
       "    </tr>\n",
       "  </tbody>\n",
       "</table>\n",
       "</div>"
      ],
      "text/plain": [
       "         Review_ID     User_Age       Rating        Likes  Purchase_Amount\n",
       "count  1000.000000  1000.000000  1000.000000  1000.000000      1000.000000\n",
       "mean    500.500000    39.211000     2.869000    44.776000         5.361120\n",
       "std     288.819436    11.908917     1.467649    28.685444         5.755652\n",
       "min       1.000000    18.000000     1.000000     0.000000         0.000000\n",
       "25%     250.750000    30.000000     1.000000    17.000000         0.000000\n",
       "50%     500.500000    39.000000     3.000000    42.500000         4.995000\n",
       "75%     750.250000    49.000000     4.000000    71.000000        10.192500\n",
       "max    1000.000000    60.000000     5.000000   100.000000        19.970000"
      ]
     },
     "execution_count": 22,
     "metadata": {},
     "output_type": "execute_result"
    }
   ],
   "source": [
    "data.describe()"
   ]
  },
  {
   "cell_type": "code",
   "execution_count": 23,
   "id": "cde1ad46-a554-4fa0-a8db-0c4cb3a6e5dc",
   "metadata": {},
   "outputs": [
    {
     "data": {
      "text/plain": [
       "Review_ID          0\n",
       "App_Name           0\n",
       "User_Age           0\n",
       "Review_Date        0\n",
       "Rating             0\n",
       "Review_Text        0\n",
       "Likes              0\n",
       "Device_Type        0\n",
       "Version_Used       0\n",
       "Country            0\n",
       "Purchase_Amount    0\n",
       "Category           0\n",
       "dtype: int64"
      ]
     },
     "execution_count": 23,
     "metadata": {},
     "output_type": "execute_result"
    }
   ],
   "source": [
    "data.isnull().sum()"
   ]
  },
  {
   "cell_type": "code",
   "execution_count": 24,
   "id": "2eb81602-e699-4487-be8b-34415220261d",
   "metadata": {},
   "outputs": [
    {
     "name": "stdout",
     "output_type": "stream",
     "text": [
      "2.869\n"
     ]
    }
   ],
   "source": [
    "mean = data['Rating'].mean()\n",
    "print(mean)"
   ]
  },
  {
   "cell_type": "code",
   "execution_count": 25,
   "id": "43346f1b-79cb-4c2f-8eec-6958c43117f6",
   "metadata": {},
   "outputs": [
    {
     "name": "stdout",
     "output_type": "stream",
     "text": [
      "3.0\n"
     ]
    }
   ],
   "source": [
    "median = data['Rating'].median()\n",
    "print(median)"
   ]
  },
  {
   "cell_type": "code",
   "execution_count": 26,
   "id": "a5acc4e6-076d-4f7a-82ed-30e1272c3837",
   "metadata": {},
   "outputs": [
    {
     "name": "stdout",
     "output_type": "stream",
     "text": [
      "1\n"
     ]
    }
   ],
   "source": [
    "mode = data['Rating'].mode()[0]\n",
    "print(mode)"
   ]
  },
  {
   "cell_type": "code",
   "execution_count": 27,
   "id": "84d75513-f7be-455d-b466-b0412b492184",
   "metadata": {},
   "outputs": [
    {
     "data": {
      "image/png": "[encoded data removed]",
      "text/plain": [
       "<Figure size 1000x600 with 1 Axes>"
      ]
     },
     "metadata": {},
     "output_type": "display_data"
    }
   ],
   "source": [
    "plt.figure(figsize=(10,6))\n",
    "sns.histplot(data['Rating'], kde = True)\n",
    "plt.savefig('images/ratings-analysis.jpg')\n",
    "plt.show()"
   ]
  },
  {
   "cell_type": "markdown",
   "id": "b4811008-1432-4274-b221-c1cd0b5a8968",
   "metadata": {},
   "source": [
    "In the above distribution, **Median** is likely the best choice for central tendency, as it balances the skew and the multiple peaks."
   ]
  },
  {
   "cell_type": "code",
   "execution_count": 28,
   "id": "63d3b821-0f6a-4b58-96e7-90a73548f233",
   "metadata": {},
   "outputs": [
    {
     "name": "stdout",
     "output_type": "stream",
     "text": [
      "19.97\n"
     ]
    }
   ],
   "source": [
    "purchase_amount = data['Purchase_Amount']\n",
    "range_purchase_amount = purchase_amount.max() - purchase_amount.min()\n",
    "print(range_purchase_amount)"
   ]
  },
  {
   "cell_type": "code",
   "execution_count": 29,
   "id": "a4e08cd0-923d-4aaa-a367-f5097898a0ee",
   "metadata": {},
   "outputs": [
    {
     "name": "stdout",
     "output_type": "stream",
     "text": [
      "10.19\n"
     ]
    }
   ],
   "source": [
    "Q1 = np.percentile(purchase_amount, 25)\n",
    "Q3 = np.percentile(purchase_amount, 75)\n",
    "\n",
    "IQR = (Q3 - Q1).round(2)\n",
    "print(IQR)"
   ]
  },
  {
   "cell_type": "markdown",
   "id": "4272f276-40a1-4f8b-8e35-5e70a7e224ba",
   "metadata": {},
   "source": [
    "The range tells you the total span of values in the Purchase_Amount column.\n",
    "A large range indicates a wide spread between the lowest and highest purchase amounts, while a small range indicates a more concentrated set of values.\n",
    "\n",
    "Whereas,\n",
    "\n",
    "The IQR is useful because it focuses on the middle 50% of the data, ignoring outliers. It tells you how spread out the central portion of the data is.\n",
    "A small IQR indicates that the values are concentrated around the median, while a large IQR suggests a more dispersed dataset."
   ]
  },
  {
   "cell_type": "code",
   "execution_count": 32,
   "id": "7cbc7fc3-b777-4b86-a91c-d75033491a30",
   "metadata": {},
   "outputs": [
    {
     "data": {
      "image/png": "[encoded data removed]",
      "text/plain": [
       "<Figure size 1000x600 with 1 Axes>"
      ]
     },
     "metadata": {},
     "output_type": "display_data"
    }
   ],
   "source": [
    "plt.figure(figsize=(10,6))\n",
    "sns.histplot(data['Likes'], kde = True)\n",
    "plt.savefig('images/likes-received.jpg')\n",
    "plt.show()"
   ]
  },
  {
   "cell_type": "code",
   "execution_count": 33,
   "id": "7bc2b26a-63e9-4979-90bb-6dae9b6040d7",
   "metadata": {},
   "outputs": [
    {
     "name": "stdout",
     "output_type": "stream",
     "text": [
      "822.85\n"
     ]
    }
   ],
   "source": [
    "variance = data['Likes'].var().round(2)\n",
    "print(variance)"
   ]
  },
  {
   "cell_type": "code",
   "execution_count": 34,
   "id": "2fdb48ab-97fb-45ac-a10d-4e6a1cb18a6c",
   "metadata": {},
   "outputs": [
    {
     "name": "stdout",
     "output_type": "stream",
     "text": [
      "28.69\n"
     ]
    }
   ],
   "source": [
    "std_dev = data['Likes'].std().round(2)\n",
    "print(std_dev)"
   ]
  },
  {
   "cell_type": "markdown",
   "id": "f28b84ab-0da8-4968-a1f4-3ac9932d8b8b",
   "metadata": {},
   "source": [
    "A small standard deviation means that the likes are closely packed around the mean, indicating less variability.\n",
    "A large standard deviation means that the likes are spread out over a larger range, indicating greater variability in how many likes are received."
   ]
  },
  {
   "cell_type": "code",
   "execution_count": 35,
   "id": "7248d565-383a-4d79-a4cd-a16f9ddbd030",
   "metadata": {},
   "outputs": [
    {
     "name": "stdout",
     "output_type": "stream",
     "text": [
      "0.8425\n"
     ]
    }
   ],
   "source": [
    "corr = data['Likes'].corr(data['Rating']).round(4)\n",
    "print(corr)"
   ]
  },
  {
   "cell_type": "markdown",
   "id": "be6b444e-e932-49e9-8e4d-4e6e63c93982",
   "metadata": {},
   "source": [
    "0.8425 suggests a strong positive correlation between Likes and Rating"
   ]
  },
  {
   "cell_type": "code",
   "execution_count": 36,
   "id": "b2044eb9-598d-4126-a53e-153b64174e3a",
   "metadata": {},
   "outputs": [
    {
     "data": {
      "image/png": "[encoded data removed]",
      "text/plain": [
       "<Figure size 640x480 with 1 Axes>"
      ]
     },
     "metadata": {},
     "output_type": "display_data"
    }
   ],
   "source": [
    "sns.histplot(data['Rating'], kde=True)\n",
    "plt.show()"
   ]
  },
  {
   "cell_type": "markdown",
   "id": "a42e6f74-1a0b-4c75-b439-ab5b74fc6b2e",
   "metadata": {},
   "source": [
    "The distribution is not clearly skewed in a traditional sense (positive or negative), but it suggests that there are two distinct groups of user ratings:<br>\n",
    "\n",
    "Positive feedback: Many users are highly satisfied (5.0 rating).<br>\n",
    "Negative feedback: A significant number of users are dissatisfied (1.0 rating).<br>\n",
    "\n",
    "User Satisfaction: The presence of peaks at both extremes of the scale suggests a polarized user base.<br>"
   ]
  },
  {
   "cell_type": "code",
   "execution_count": 37,
   "id": "dd03bf72-7463-455a-8ec2-4339c745ad01",
   "metadata": {},
   "outputs": [],
   "source": [
    "instagram_ratings = data[data['App_Name'] == 'Instagram']['Rating']\n",
    "whatsapp_ratings = data[data['App_Name'] == 'WhatsApp']['Rating']"
   ]
  },
  {
   "cell_type": "code",
   "execution_count": 38,
   "id": "c989b0c5-7eda-4ebb-82fb-003cabd5223d",
   "metadata": {},
   "outputs": [
    {
     "name": "stdout",
     "output_type": "stream",
     "text": [
      "T-statistic: -0.7967\n",
      "P-value: 0.7868\n",
      "Fail to reject the null hypothesis: No significant difference between the ratings.\n"
     ]
    }
   ],
   "source": [
    "t_stat, p_value = stats.ttest_ind(instagram_ratings, whatsapp_ratings, alternative='greater')\n",
    "t_stat, p_value = t_stat.round(4), p_value.round(4)\n",
    "print(f\"T-statistic: {t_stat}\")\n",
    "print(f\"P-value: {p_value}\")\n",
    "\n",
    "alpha = 0.05\n",
    "if p_value < alpha:\n",
    "    print(\"Reject the null hypothesis: Instagram's average rating is significantly higher than WhatsApp's.\")\n",
    "else:\n",
    "    print(\"Fail to reject the null hypothesis: No significant difference between the ratings.\")"
   ]
  },
  {
   "cell_type": "markdown",
   "id": "3134b32b-ea3e-475b-942d-7ce7705a08f6",
   "metadata": {},
   "source": [
    "User satisfaction levels, as represented by the ratings, do not differ significantly between the two platforms based on the given data."
   ]
  },
  {
   "cell_type": "code",
   "execution_count": 41,
   "id": "0fa27fb5-72a5-4f2a-b121-671df9c43856",
   "metadata": {},
   "outputs": [
    {
     "data": {
      "image/png": "[encoded data removed]",
      "text/plain": [
       "<Figure size 1000x600 with 1 Axes>"
      ]
     },
     "metadata": {},
     "output_type": "display_data"
    }
   ],
   "source": [
    "ratings = data['Rating']\n",
    "\n",
    "sample_size = 30\n",
    "num_samples = 1000\n",
    "\n",
    "sample_means = []\n",
    "for _ in range(num_samples):\n",
    "    sample = np.random.choice(ratings, size=sample_size, replace=True)\n",
    "    sample_means.append(np.mean(sample))\n",
    "plt.figure(figsize=(10,6))\n",
    "sns.histplot(sample_means, bins=30, kde=True, color='red', edgecolor='black')\n",
    "plt.savefig('images/clt.jpg')\n",
    "plt.show()"
   ]
  },
  {
   "cell_type": "markdown",
   "id": "cb48b67a-ad22-45e3-beb2-2cf5d76a0581",
   "metadata": {},
   "source": [
    "The Central Limit Theorem explains why the sampling distribution of sample means tends to be normal, regardless of the population distribution.\n",
    "This property is crucial for inferential statistics because it allows us to use the normal distribution to make predictions and calculate probabilities about sample means."
   ]
  }
 ],
 "metadata": {
  "kernelspec": {
   "display_name": "Python 3 (ipykernel)",
   "language": "python",
   "name": "python3"
  },
  "language_info": {
   "codemirror_mode": {
    "name": "ipython",
    "version": 3
   },
   "file_extension": ".py",
   "mimetype": "text/x-python",
   "name": "python",
   "nbconvert_exporter": "python",
   "pygments_lexer": "ipython3",
   "version": "3.12.6"
  }
 },
 "nbformat": 4,
 "nbformat_minor": 5
}
